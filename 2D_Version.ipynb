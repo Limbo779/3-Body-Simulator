{
 "cells": [
  {
   "cell_type": "code",
   "execution_count": 45,
   "id": "dba83d3b",
   "metadata": {},
   "outputs": [],
   "source": [
    "import numpy as np\n",
    "import matplotlib\n",
    "from matplotlib import pyplot as plt\n",
    "from matplotlib.animation import PillowWriter"
   ]
  },
  {
   "cell_type": "code",
   "execution_count": 46,
   "id": "5a1a5e95",
   "metadata": {},
   "outputs": [],
   "source": [
    "def mod(x): # returns the modular of a vector\n",
    "    return (np.dot(x,x))**(0.5)\n",
    "\n",
    "# body 1\n",
    "p1=np.random.rand(2)\n",
    "m1=1\n",
    "v1=np.array([0,0])\n",
    "\n",
    "# body 2\n",
    "p2=np.random.rand(2)\n",
    "m2=1\n",
    "v2=np.array([0,0])\n",
    "\n",
    "# body 3\n",
    "p3=np.random.rand(2)\n",
    "m3=1\n",
    "v3=np.array([0,0])\n",
    "\n",
    "# G Const\n",
    "G=1 #6.67430*(10**(-11))\n",
    "# small timestep\n",
    "dt=0.01"
   ]
  },
  {
   "cell_type": "code",
   "execution_count": 47,
   "id": "9ef2f3d9",
   "metadata": {},
   "outputs": [],
   "source": [
    "# managing collision (when two bodies touch each they make elastic collision)\n",
    "# they touch each other when they are below the distance of 2 btw each other (1 is their radius)\n",
    "def collision(x):\n",
    "    global v1,v2,v3\n",
    "    # a means v1 and v2\n",
    "    # b means v1 and v3\n",
    "    # c means v2 and v3\n",
    "    if x == \"a\":\n",
    "        v1=v1*(-1)\n",
    "        v2=v2*(-1)   \n",
    "    elif x == \"b\":\n",
    "        v1=v1*(-1)\n",
    "        v3=v3*(-1)\n",
    "    else:\n",
    "        v3=v3*(-1)\n",
    "        v2=v2*(-1)"
   ]
  },
  {
   "cell_type": "code",
   "execution_count": 48,
   "id": "de3d3a3f",
   "metadata": {},
   "outputs": [
    {
     "data": {
      "text/plain": [
       "(-100.0, 100.0)"
      ]
     },
     "execution_count": 48,
     "metadata": {},
     "output_type": "execute_result"
    },
    {
     "data": {
      "image/png": "[encoded data removed]",
      "text/plain": [
       "<Figure size 640x480 with 1 Axes>"
      ]
     },
     "metadata": {},
     "output_type": "display_data"
    }
   ],
   "source": [
    "fig = plt.figure()\n",
    "l,=plt.plot([],[])\n",
    "\n",
    "plt.xlim(-100,100)\n",
    "plt.ylim(-100,100)"
   ]
  },
  {
   "cell_type": "code",
   "execution_count": null,
   "id": "2d6d2b0e",
   "metadata": {},
   "outputs": [],
   "source": [
    "metadata = dict(title='Movie',artist='Limbo')\n",
    "writer=PillowWriter(fps=5,metadata=metadata)\n",
    "\n",
    "with writer.saving(fig,\"body.gif\",72):    \n",
    "    for _ in range(3000):\n",
    "        #plt.clf()\n",
    "        ra=(p1-p2)*-1 # vector btw body 1 and body 2 \n",
    "        rb=(p1-p3)*-1 # vector btw body 1 and body 3\n",
    "        rc=(p2-p3)*-1 # vector btw body 2 and body 3\n",
    "\n",
    "        #if mod(p1-p2) < 2 :\n",
    "        #    collision(\"a\")\n",
    "        #elif mod(p1-p3) < 2 :\n",
    "        #    collision(\"b\")\n",
    "        #elif mod(p3-p2) < 2 :\n",
    "        #    collision(\"c\")\n",
    "\n",
    "        fa=(G*m1*m2*ra)/(mod(ra)**3) # force between body 1 and body 2\n",
    "        fb=(G*m1*m3*rb)/(mod(rb)**3) # force between body 1 and body 3\n",
    "        fc=(G*m3*m2*rc)/(mod(rc)**3) # force between body 2 and body 3\n",
    "        \n",
    "        # position and velocity updating\n",
    "        \n",
    "        # body 1\n",
    "        p1 = p1+v1*dt+(((fa+fb)*(dt**2))/(2*m1))\n",
    "        v1 = v1 + (((fa+fb)*dt)/m1)\n",
    "    \n",
    "        # body 2\n",
    "        p2 = p2+v2*dt+(((fc-fa)*(dt**2))/(2*m2))\n",
    "        v2 = v2 + (((fc-fa)*dt)/m2)\n",
    "    \n",
    "        # body 3\n",
    "        p3 = p3+v3*dt+(((-fc-fb)*(dt**2))/(2*m3))\n",
    "        v3 = v3 + (((-fc-fb)*dt)/m3)\n",
    "    \n",
    "        #plt.scatter([p1[0],p2[0],p3[0]],[p1[1],p2[1],p3[1]])\n",
    "        x=[p1[0],p2[0],p3[0]]\n",
    "        y=[p1[1],p2[1],p3[1]]\n",
    "\n",
    "        l.set_data(x,y)\n",
    "\n",
    "        writer.grab_frame()\n",
    "    \n",
    "    "
   ]
  }
 ],
 "metadata": {
  "kernelspec": {
   "display_name": "venv",
   "language": "python",
   "name": "venv"
  },
  "language_info": {
   "codemirror_mode": {
    "name": "ipython",
    "version": 3
   },
   "file_extension": ".py",
   "mimetype": "text/x-python",
   "name": "python",
   "nbconvert_exporter": "python",
   "pygments_lexer": "ipython3",
   "version": "3.12.11"
  }
 },
 "nbformat": 4,
 "nbformat_minor": 5
}
